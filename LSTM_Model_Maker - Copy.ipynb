{
 "cells": [
  {
   "cell_type": "code",
   "execution_count": 1,
   "metadata": {},
   "outputs": [
    {
     "name": "stderr",
     "output_type": "stream",
     "text": [
      "Using TensorFlow backend.\n"
     ]
    }
   ],
   "source": [
    "import os\n",
    "import numpy as np \n",
    "import pandas as pd\n",
    "import seaborn as sns\n",
    "#import shap # for SHAP value\n",
    "import random\n",
    "import warnings\n",
    "import matplotlib.pyplot as plt\n",
    "from matplotlib.pylab import rcParams\n",
    "from bs4 import BeautifulSoup\n",
    "import re\n",
    "\n",
    "# The Natural Language Toolkit, or more commonly NLTK, is a suite of libraries and programs for symbolic and \n",
    "# statistical natural language processing for English written in the Python programming language.\n",
    "import nltk\n",
    "from nltk.tokenize import word_tokenize\n",
    "from nltk.stem import WordNetLemmatizer\n",
    "lemmatizer = WordNetLemmatizer()\n",
    "\n",
    "\n",
    "#TQDM is a progress bar library with good support for nested loops and Jupyter/IPython notebooks.\n",
    "from tqdm import tqdm\n",
    "\n",
    "\n",
    "# Use Keras Tensorflow deeplearning library\n",
    "\n",
    "from tensorflow import set_random_seed\n",
    "\n",
    "from keras.utils import to_categorical\n",
    "from keras.preprocessing import sequence\n",
    "from keras.preprocessing.text import Tokenizer\n",
    "from keras.layers import Dense,Dropout,Embedding,LSTM\n",
    "from keras.callbacks import EarlyStopping, ModelCheckpoint\n",
    "from keras.losses import categorical_crossentropy\n",
    "from keras.optimizers import Adam, SGD, RMSprop\n",
    "from keras.models import Sequential\n",
    "\n",
    "\n",
    "from sklearn import preprocessing\n",
    "from sklearn.preprocessing import LabelEncoder, OneHotEncoder\n",
    "from sklearn.model_selection import train_test_split,GridSearchCV\n",
    "from sklearn.ensemble import RandomForestClassifier\n",
    "\n",
    "from sklearn.tree import DecisionTreeClassifier\n",
    "from sklearn.tree import export_graphviz\n",
    "\n",
    "from sklearn.metrics import roc_curve,auc,make_scorer, accuracy_score\n",
    "from sklearn.metrics import classification_report\n",
    "from sklearn.metrics import confusion_matrix\n",
    "\n",
    "\n",
    "\n",
    "import eli5 # for permutation importance\n",
    "from eli5.sklearn import PermutationImportance\n",
    "\n",
    "from pdpbox import pdp, info_plots # flor partial plots \n",
    "\n",
    "from scipy import interp\n",
    "\n",
    "from itertools import cycle\n",
    "\n",
    "from joblib import dump, load\n",
    "seed_value = 123\n",
    "os.environ['PYTHONHASHSEED']=str(seed_value)"
   ]
  },
  {
   "cell_type": "code",
   "execution_count": 2,
   "metadata": {},
   "outputs": [],
   "source": [
    "os.getcwd()\n",
    "warnings.filterwarnings(\"ignore\", category=UserWarning, module='bs4')"
   ]
  },
  {
   "cell_type": "code",
   "execution_count": 3,
   "metadata": {},
   "outputs": [],
   "source": [
    "# set_random_seed(123)\n",
    "# random.seed(123)"
   ]
  },
  {
   "cell_type": "code",
   "execution_count": 4,
   "metadata": {},
   "outputs": [],
   "source": [
    "np.random.seed(123)\n",
    "pd.options.mode.chained_assignment = None  #hide any pandas warnings\n",
    "%matplotlib inline"
   ]
  },
  {
   "cell_type": "markdown",
   "metadata": {},
   "source": [
    "I was messing around with the data in excel so I could filter a little bit easier. That made me think of some tweets that don't have much confidence based on the voting. \n",
    "\n",
    "I found that the tweets that were hate but at .444 or .5 of the proportion of votes but were still labeled in the 0 class, they actually weren't that offensive or hateful and I wanted it to learn on some better examples that weren't so ambiguous. \n",
    "\n",
    "It's like teaching a new student of english on the weird examples where grammar makes no sense in the language rather than the rules that work most of the time to give them an overall understanding first.\n",
    "\n",
    "So train_no_hate.csv has a few added values for the proportion of votes so I can filter out the ones that the labeler's were less confident in as a group consensus. You could obviously easily do this with pandas, but I already made the columns in excel, so I just brought that file in. \n",
    "\n",
    "Just make sure if you use train.csv to change 'Column1' back to 'Unnamed: 0' in the train.drop() function"
   ]
  },
  {
   "cell_type": "code",
   "execution_count": 5,
   "metadata": {},
   "outputs": [],
   "source": [
    "#train= pd.read_csv(\"input/train.csv\")\n",
    "train= pd.read_csv(\"train_no_hate.csv\")\n",
    "#test = pd.read_csv(\"input/test.csv\")"
   ]
  },
  {
   "cell_type": "code",
   "execution_count": 6,
   "metadata": {},
   "outputs": [],
   "source": [
    "# Train dataset: Need only class as \"Sentiment\" and text as 'Phrase'\n",
    "train = train.rename(columns={'class':'Sentiment','tweet':'Phrase'})\n",
    "\n",
    "\n",
    "\n",
    "#### WARNING, Yyou may have to change this to 'Unnamed: 0' \n",
    "#### if you are just using train.csv and not train_no_hate\n",
    "\n",
    "train = train.drop(['Column1', 'count', 'hate_speech', 'offensive_language', 'neither'],axis=1).copy()"
   ]
  },
  {
   "cell_type": "markdown",
   "metadata": {},
   "source": [
    "Here I grab a series of each of the labels and make sure the confidence rating in the vote is above 50% like I talked about earlier. Feel free to mess around with more data cleaning, I think this would do you a lot of good. \n",
    "\n",
    "Good data in => Good data out\n",
    "Garbage in => Garbage out"
   ]
  },
  {
   "cell_type": "code",
   "execution_count": 7,
   "metadata": {},
   "outputs": [
    {
     "data": {
      "text/html": [
       "<div>\n",
       "<style scoped>\n",
       "    .dataframe tbody tr th:only-of-type {\n",
       "        vertical-align: middle;\n",
       "    }\n",
       "\n",
       "    .dataframe tbody tr th {\n",
       "        vertical-align: top;\n",
       "    }\n",
       "\n",
       "    .dataframe thead th {\n",
       "        text-align: right;\n",
       "    }\n",
       "</style>\n",
       "<table border=\"1\" class=\"dataframe\">\n",
       "  <thead>\n",
       "    <tr style=\"text-align: right;\">\n",
       "      <th></th>\n",
       "      <th>Sentiment</th>\n",
       "      <th>Phrase</th>\n",
       "    </tr>\n",
       "  </thead>\n",
       "  <tbody>\n",
       "    <tr>\n",
       "      <th>24517</th>\n",
       "      <td>2</td>\n",
       "      <td>the rams really dont wanna be trash, jeff fish...</td>\n",
       "    </tr>\n",
       "    <tr>\n",
       "      <th>12375</th>\n",
       "      <td>2</td>\n",
       "      <td>Lets go #hoosiers #iubb &amp;#127936; http://t.co/...</td>\n",
       "    </tr>\n",
       "    <tr>\n",
       "      <th>1689</th>\n",
       "      <td>0</td>\n",
       "      <td>&amp;#8220;@alicia_688: You aint special niglet RT...</td>\n",
       "    </tr>\n",
       "    <tr>\n",
       "      <th>11143</th>\n",
       "      <td>1</td>\n",
       "      <td>I'd drive me crazy to have to be at that ghett...</td>\n",
       "    </tr>\n",
       "    <tr>\n",
       "      <th>12761</th>\n",
       "      <td>1</td>\n",
       "      <td>Marcus Colston so damn trash.</td>\n",
       "    </tr>\n",
       "  </tbody>\n",
       "</table>\n",
       "</div>"
      ],
      "text/plain": [
       "       Sentiment                                             Phrase\n",
       "24517          2  the rams really dont wanna be trash, jeff fish...\n",
       "12375          2  Lets go #hoosiers #iubb &#127936; http://t.co/...\n",
       "1689           0  &#8220;@alicia_688: You aint special niglet RT...\n",
       "11143          1  I'd drive me crazy to have to be at that ghett...\n",
       "12761          1                      Marcus Colston so damn trash."
      ]
     },
     "execution_count": 7,
     "metadata": {},
     "output_type": "execute_result"
    }
   ],
   "source": [
    "only_offensive_df = train[train[\"Sentiment\"] == 1]\n",
    "only_offensive_df = only_offensive_df[only_offensive_df[\"r_off\"] > 0.5]\n",
    "\n",
    "only_hate = train[train[\"Sentiment\"] == 0]\n",
    "only_hate = only_hate[only_hate[\"r_hate\"] > 0.5]\n",
    "\n",
    "only = train[train[\"Sentiment\"] == 2]\n",
    "only = only[only[\"r_none\"] > 0.5]\n",
    "\n",
    "df = pd.DataFrame(only_offensive_df)\n",
    "df = df.sample(frac=0.6) # You can adjust the % of Offensive(1) labels there are\n",
    "df2 = pd.DataFrame(only)\n",
    "df3 = df.append(df2)\n",
    "df4 = df3.append(only_hate)\n",
    "training = df4.drop(['r_hate', 'r_off', 'r_none'], axis=1).copy()\n",
    "training = training.sample(frac=1) # Randomly shuffle the dataframe\n",
    "training.tail()"
   ]
  },
  {
   "cell_type": "code",
   "execution_count": 8,
   "metadata": {},
   "outputs": [],
   "source": [
    "training.to_csv('less_ambiguous_data.csv')"
   ]
  },
  {
   "cell_type": "code",
   "execution_count": 9,
   "metadata": {},
   "outputs": [],
   "source": [
    "def clean_sentences(df):\n",
    "    tweets = []\n",
    "    \n",
    "#     for sent in tqdm(df['Phrase']):\n",
    "    for sent in df['Phrase']:\n",
    "        # remove non-alphabetic characters\n",
    "        tweet_text = re.sub(\"[^a-zA-Z]\",\" \", str(sent))\n",
    "        \n",
    "        #remove html content\n",
    "        tweet_text = BeautifulSoup(tweet_text).get_text()\n",
    "        \n",
    "        # tokenize\n",
    "        words = word_tokenize(tweet_text.lower())\n",
    "        \n",
    "        # lemmatize each word to its lemma\n",
    "        lemma_words = [lemmatizer.lemmatize(i) for i in words]\n",
    "        \n",
    "        tweets.append(lemma_words)\n",
    "        \n",
    "    return(tweets)"
   ]
  },
  {
   "cell_type": "code",
   "execution_count": 10,
   "metadata": {},
   "outputs": [],
   "source": [
    "# Keras and Sklearn read arrays differently\n",
    "# Create function to convert keras array to show only one highest sentiment result per list\n",
    "def keras_output_sklearn(y):\n",
    "    \n",
    "    result = []\n",
    "    \n",
    "    for element in y:\n",
    "        result.append(np.argmax(element))\n",
    "        \n",
    "\n",
    "    return result"
   ]
  },
  {
   "cell_type": "code",
   "execution_count": 11,
   "metadata": {},
   "outputs": [],
   "source": [
    "# cleaned tweets for both train and test set retrieved\n",
    "\n",
    "train_sentences = clean_sentences(training)\n",
    "\n",
    "#test_sentences = clean_sentences(test)"
   ]
  },
  {
   "cell_type": "markdown",
   "metadata": {},
   "source": [
    "# Splitting the Data\n",
    "### Train, Validation, and Testing\n",
    "\n",
    "So here I'm taking 80% of the labeled data and splitting it into my training and testing.\n",
    "\n",
    "Then I'm taking that remaining 20% that is saved in X_test and y_test, I split that up 50/50 between validation and testing."
   ]
  },
  {
   "cell_type": "code",
   "execution_count": 12,
   "metadata": {},
   "outputs": [],
   "source": [
    "# Collect dependent values and convert to ONE-HOT encoding\n",
    "# Output using to_categorical\n",
    "target = training.Sentiment.values\n",
    "y_target = to_categorical(target)\n",
    "num_classes = y_target.shape[1]\n",
    "\n",
    "\n",
    "# Split into train and validation sets\n",
    "X_train, X_test, y_train, y_test = train_test_split(train_sentences,\n",
    "                                                  y_target,\n",
    "                                                  test_size=0.2,\n",
    "                                                  random_state=seed_value,\n",
    "                                                  stratify=y_target)\n",
    "X_val, X_test, y_val, y_test = train_test_split(X_test,\n",
    "                                                  y_test,\n",
    "                                                  test_size=0.5,\n",
    "                                                  random_state=seed_value,\n",
    "                                                  stratify=y_test)"
   ]
  },
  {
   "cell_type": "code",
   "execution_count": 13,
   "metadata": {},
   "outputs": [],
   "source": [
    "# Getting the no of unique words and max length of a tweet available in the list of cleaned tweets\n",
    "# It is needed for initializing tokenizer of keras and subsequent padding\n",
    "\n",
    "# Build an unordered collection of unique elements.\n",
    "unique_words = set()\n",
    "len_max = 0\n",
    "\n",
    "# for sent in tqdm(X_train):\n",
    "for sent in X_train:\n",
    "\n",
    "    unique_words.update(sent)\n",
    "    \n",
    "    if(len_max<len(sent)):\n",
    "        len_max=len(sent)\n",
    "\n",
    "# length of the list of unique_words gives the number of unique words\n",
    "\n",
    "unique_words_count = len(list(unique_words))"
   ]
  },
  {
   "cell_type": "code",
   "execution_count": 14,
   "metadata": {},
   "outputs": [],
   "source": [
    "# Actual tokenizer of keras and convert to sequences\n",
    "\n",
    "tokenizer = Tokenizer(num_words=len(list(unique_words)))\n",
    "tokenizer.fit_on_texts(list(X_train))\n",
    "\n",
    "# texts_to_sequences\n",
    "# ARGUMENTS: list of texts to turn to sequences\n",
    "# RETURN: list of sequences (one per text input)\n",
    "\n",
    "X_train = tokenizer.texts_to_sequences(X_train)\n",
    "X_val = tokenizer.texts_to_sequences(X_val)\n",
    "X_test = tokenizer.texts_to_sequences(X_test)\n",
    "\n",
    "X_train = sequence.pad_sequences(X_train, maxlen=len_max)\n",
    "X_val = sequence.pad_sequences(X_val, maxlen=len_max)\n",
    "X_test = sequence.pad_sequences(X_test, maxlen=len_max)"
   ]
  },
  {
   "cell_type": "code",
   "execution_count": 15,
   "metadata": {},
   "outputs": [],
   "source": [
    "# Padding is done to equalize the lengths of all input tweets.\n",
    "# LTSM networks need all inputs to be same length.\n",
    "# Therefore, tweets lesser than max length will be made equal using extra zeros at end. This is padding.\n",
    "# Also, you always have to give a three-dimensional array as an input to your LSTM network\n",
    "\n"
   ]
  },
  {
   "cell_type": "code",
   "execution_count": 16,
   "metadata": {},
   "outputs": [],
   "source": [
    "# Count of number of data points in each category\n",
    "hate_ct = y_train.sum(axis = 0)[0]\n",
    "offensive_ct = y_train.sum(axis = 0)[1]\n",
    "neither_ct = y_train.sum(axis = 0)[2]\n",
    "total_ct = y_train.sum()\n",
    "\n",
    "# Calculating the inverse ratio of each category to use for the weights of the model\n",
    "inv_ratio_hate = 1 - (hate_ct / total_ct)\n",
    "inv_ratio_hurtful = 1 - (offensive_ct / total_ct)\n",
    "inv_ratio_neither = 1 - (neither_ct / total_ct)"
   ]
  },
  {
   "cell_type": "code",
   "execution_count": 17,
   "metadata": {},
   "outputs": [],
   "source": [
    "# Early stopping to prevent overfitting deep learning neural network models\n",
    "# This is a method that allows you to specify an arbitrary large number of training epochs.\n",
    "# This stops training once the model performance stops improving on a hold out validation dataset\n",
    "\n"
   ]
  },
  {
   "cell_type": "markdown",
   "metadata": {},
   "source": [
    "# Added ModelCheckpoint, Monitor Loss, and Decay\n",
    "\n",
    "This helps you save the best model automatically \n",
    "\n",
    "Monitoring Loss helps us track the information loss and let the class weights changing help us direct the scoring of our learner better. We can put the class weights very high for the underserved class we are trying to predict and low weights for the one that is over represented. This will give the initial epochs a really bad score and then have to figure out how to decend into lower and lower loss values. Especially when our model is heavily incentivized to automatically guess the offensive category, these types of tricks help.\n",
    "\n",
    "I updated the dropout weight and that seemed to help on a lot of models. I actually gave you bad advice on dropout, it's actually the inverse of what I explained and so 0.7 means 30% of the weights get set to 0 and not 70%. \n",
    "\n",
    "Decay helps decrease the overfitting over time, it adjusts the weights less and less after each epoch. This will help your model learn over a longer period of time rather than having to learn everything in one pass.\n",
    "\n",
    "This is certainly not the best version of the model. This one will be volitile because I am only taking a random 60% sample of the offensive labeled tweets, which ideally I would be able to account for but I have not been able to figure out a way."
   ]
  },
  {
   "cell_type": "code",
   "execution_count": 39,
   "metadata": {},
   "outputs": [
    {
     "name": "stdout",
     "output_type": "stream",
     "text": [
      "_________________________________________________________________\n",
      "Layer (type)                 Output Shape              Param #   \n",
      "=================================================================\n",
      "embedding_4 (Embedding)      (None, 53, 300)           7009500   \n",
      "_________________________________________________________________\n",
      "lstm_7 (LSTM)                (None, 53, 128)           219648    \n",
      "_________________________________________________________________\n",
      "lstm_8 (LSTM)                (None, 64)                49408     \n",
      "_________________________________________________________________\n",
      "dense_7 (Dense)              (None, 100)               6500      \n",
      "_________________________________________________________________\n",
      "dropout_4 (Dropout)          (None, 100)               0         \n",
      "_________________________________________________________________\n",
      "dense_8 (Dense)              (None, 3)                 303       \n",
      "=================================================================\n",
      "Total params: 7,285,359\n",
      "Trainable params: 7,285,359\n",
      "Non-trainable params: 0\n",
      "_________________________________________________________________\n"
     ]
    }
   ],
   "source": [
    "early_stopper = EarlyStopping(min_delta = 0.001, mode = 'min', monitor = 'val_loss', patience = 3)\n",
    "best_model_saver = ModelCheckpoint(filepath='best_model.h5', monitor='val_loss', save_best_only=True, verbose=1)\n",
    "callbacks = [best_model_saver, early_stopper]\n",
    "\n",
    "# Create the model\n",
    "\n",
    "model = Sequential()\n",
    "model.add(Embedding(unique_words_count,300,input_length=len_max))\n",
    "model.add(LSTM(128,dropout=0.7,recurrent_dropout=0.7,return_sequences=True))\n",
    "model.add(LSTM(64,dropout=0.7,recurrent_dropout=0.7,return_sequences=False))\n",
    "model.add(Dense(100,activation='relu')) #try elu\n",
    "model.add(Dropout(0.5))\n",
    "model.add(Dense(num_classes,activation='softmax'))\n",
    "model.compile(optimizer=Adam(lr=0.005, decay=0.005), #Adam(lr=0.001),SGD(lr=0.001)\n",
    "              loss='categorical_crossentropy',\n",
    "              metrics=['acc'])\n",
    "model.summary()"
   ]
  },
  {
   "cell_type": "markdown",
   "metadata": {},
   "source": [
    "I messed with the class weights just to customize/ get more control of the loss scoring. \n",
    "I'm not sure if this is cheating but it definitely helped.\n",
    "\n",
    "I notice that when training deep neural networks that as soon as the accuracy of the training data surpasses the accuracy of the validation data, the model really starts to overfit. So what I tried to do generally is see if I could get it to meet up at 88%, I haven't gotten it to work with the crazy weighing of classes and less offensive data, but it really helped my performance on the other models before I tried those out."
   ]
  },
  {
   "cell_type": "code",
   "execution_count": 40,
   "metadata": {},
   "outputs": [
    {
     "name": "stdout",
     "output_type": "stream",
     "text": [
      "Train on 13646 samples, validate on 1706 samples\n",
      "Epoch 1/15\n",
      "13646/13646 [==============================] - ETA: 3:26 - loss: 1.0687 - acc: 0.269 - ETA: 1:49 - loss: 0.9996 - acc: 0.232 - ETA: 1:17 - loss: 1.0597 - acc: 0.209 - ETA: 1:01 - loss: 1.0423 - acc: 0.176 - ETA: 51s - loss: 1.0640 - acc: 0.163 - ETA: 44s - loss: 1.0505 - acc: 0.14 - ETA: 39s - loss: 1.0610 - acc: 0.14 - ETA: 35s - loss: 1.0539 - acc: 0.13 - ETA: 32s - loss: 1.0661 - acc: 0.13 - ETA: 30s - loss: 1.0681 - acc: 0.13 - ETA: 28s - loss: 1.0681 - acc: 0.12 - ETA: 26s - loss: 1.0603 - acc: 0.12 - ETA: 24s - loss: 1.0561 - acc: 0.11 - ETA: 23s - loss: 1.0553 - acc: 0.11 - ETA: 22s - loss: 1.0509 - acc: 0.11 - ETA: 21s - loss: 1.0490 - acc: 0.11 - ETA: 19s - loss: 1.0446 - acc: 0.11 - ETA: 18s - loss: 1.0453 - acc: 0.11 - ETA: 17s - loss: 1.0384 - acc: 0.11 - ETA: 16s - loss: 1.0400 - acc: 0.11 - ETA: 16s - loss: 1.0390 - acc: 0.11 - ETA: 15s - loss: 1.0373 - acc: 0.11 - ETA: 14s - loss: 1.0397 - acc: 0.11 - ETA: 13s - loss: 1.0331 - acc: 0.11 - ETA: 13s - loss: 1.0337 - acc: 0.11 - ETA: 12s - loss: 1.0357 - acc: 0.11 - ETA: 12s - loss: 1.0342 - acc: 0.11 - ETA: 11s - loss: 1.0288 - acc: 0.11 - ETA: 10s - loss: 1.0267 - acc: 0.10 - ETA: 10s - loss: 1.0266 - acc: 0.10 - ETA: 9s - loss: 1.0268 - acc: 0.1079 - ETA: 9s - loss: 1.0294 - acc: 0.107 - ETA: 8s - loss: 1.0295 - acc: 0.107 - ETA: 8s - loss: 1.0310 - acc: 0.107 - ETA: 7s - loss: 1.0295 - acc: 0.107 - ETA: 7s - loss: 1.0295 - acc: 0.107 - ETA: 6s - loss: 1.0267 - acc: 0.106 - ETA: 6s - loss: 1.0275 - acc: 0.107 - ETA: 5s - loss: 1.0254 - acc: 0.106 - ETA: 5s - loss: 1.0277 - acc: 0.107 - ETA: 5s - loss: 1.0282 - acc: 0.107 - ETA: 4s - loss: 1.0254 - acc: 0.106 - ETA: 4s - loss: 1.0260 - acc: 0.107 - ETA: 3s - loss: 1.0277 - acc: 0.107 - ETA: 3s - loss: 1.0292 - acc: 0.108 - ETA: 2s - loss: 1.0291 - acc: 0.108 - ETA: 2s - loss: 1.0281 - acc: 0.109 - ETA: 2s - loss: 1.0267 - acc: 0.109 - ETA: 1s - loss: 1.0242 - acc: 0.109 - ETA: 1s - loss: 1.0230 - acc: 0.110 - ETA: 0s - loss: 1.0211 - acc: 0.110 - ETA: 0s - loss: 1.0215 - acc: 0.111 - ETA: 0s - loss: 1.0200 - acc: 0.112 - 22s 2ms/step - loss: 1.0194 - acc: 0.1127 - val_loss: 1.1490 - val_acc: 0.2028\n",
      "\n",
      "Epoch 00001: val_loss improved from inf to 1.14900, saving model to best_model.h5\n",
      "Epoch 2/15\n",
      "13646/13646 [==============================] - ETA: 15s - loss: 0.9784 - acc: 0.17 - ETA: 15s - loss: 0.9721 - acc: 0.17 - ETA: 15s - loss: 0.9577 - acc: 0.18 - ETA: 15s - loss: 0.9584 - acc: 0.19 - ETA: 15s - loss: 0.9590 - acc: 0.19 - ETA: 15s - loss: 0.9559 - acc: 0.19 - ETA: 15s - loss: 0.9384 - acc: 0.19 - ETA: 14s - loss: 0.9240 - acc: 0.19 - ETA: 14s - loss: 0.9226 - acc: 0.20 - ETA: 14s - loss: 0.9136 - acc: 0.20 - ETA: 13s - loss: 0.9035 - acc: 0.20 - ETA: 13s - loss: 0.8920 - acc: 0.20 - ETA: 13s - loss: 0.8890 - acc: 0.20 - ETA: 12s - loss: 0.8829 - acc: 0.21 - ETA: 12s - loss: 0.8829 - acc: 0.21 - ETA: 12s - loss: 0.8787 - acc: 0.22 - ETA: 11s - loss: 0.8781 - acc: 0.22 - ETA: 11s - loss: 0.8749 - acc: 0.22 - ETA: 11s - loss: 0.8711 - acc: 0.23 - ETA: 10s - loss: 0.8692 - acc: 0.23 - ETA: 10s - loss: 0.8623 - acc: 0.24 - ETA: 10s - loss: 0.8568 - acc: 0.24 - ETA: 9s - loss: 0.8576 - acc: 0.2525 - ETA: 9s - loss: 0.8554 - acc: 0.257 - ETA: 9s - loss: 0.8500 - acc: 0.261 - ETA: 8s - loss: 0.8514 - acc: 0.266 - ETA: 8s - loss: 0.8475 - acc: 0.272 - ETA: 8s - loss: 0.8399 - acc: 0.277 - ETA: 7s - loss: 0.8393 - acc: 0.285 - ETA: 7s - loss: 0.8346 - acc: 0.293 - ETA: 7s - loss: 0.8308 - acc: 0.301 - ETA: 6s - loss: 0.8289 - acc: 0.310 - ETA: 6s - loss: 0.8254 - acc: 0.318 - ETA: 6s - loss: 0.8213 - acc: 0.327 - ETA: 5s - loss: 0.8254 - acc: 0.333 - ETA: 5s - loss: 0.8217 - acc: 0.341 - ETA: 5s - loss: 0.8168 - acc: 0.347 - ETA: 4s - loss: 0.8105 - acc: 0.355 - ETA: 4s - loss: 0.8094 - acc: 0.361 - ETA: 4s - loss: 0.8050 - acc: 0.367 - ETA: 4s - loss: 0.8006 - acc: 0.372 - ETA: 3s - loss: 0.7972 - acc: 0.378 - ETA: 3s - loss: 0.7901 - acc: 0.384 - ETA: 3s - loss: 0.7891 - acc: 0.389 - ETA: 2s - loss: 0.7850 - acc: 0.395 - ETA: 2s - loss: 0.7820 - acc: 0.402 - ETA: 2s - loss: 0.7769 - acc: 0.408 - ETA: 1s - loss: 0.7726 - acc: 0.413 - ETA: 1s - loss: 0.7705 - acc: 0.418 - ETA: 1s - loss: 0.7678 - acc: 0.424 - ETA: 0s - loss: 0.7623 - acc: 0.430 - ETA: 0s - loss: 0.7599 - acc: 0.436 - ETA: 0s - loss: 0.7569 - acc: 0.442 - 18s 1ms/step - loss: 0.7565 - acc: 0.4442 - val_loss: 0.6408 - val_acc: 0.7761\n",
      "\n",
      "Epoch 00002: val_loss improved from 1.14900 to 0.64084, saving model to best_model.h5\n",
      "Epoch 3/15\n",
      "13646/13646 [==============================] - ETA: 16s - loss: 0.4673 - acc: 0.74 - ETA: 16s - loss: 0.4696 - acc: 0.74 - ETA: 16s - loss: 0.4467 - acc: 0.75 - ETA: 16s - loss: 0.4269 - acc: 0.75 - ETA: 15s - loss: 0.4206 - acc: 0.75 - ETA: 15s - loss: 0.4303 - acc: 0.75 - ETA: 15s - loss: 0.4270 - acc: 0.76 - ETA: 14s - loss: 0.4293 - acc: 0.76 - ETA: 14s - loss: 0.4297 - acc: 0.77 - ETA: 14s - loss: 0.4392 - acc: 0.77 - ETA: 14s - loss: 0.4417 - acc: 0.77 - ETA: 13s - loss: 0.4427 - acc: 0.78 - ETA: 13s - loss: 0.4452 - acc: 0.78 - ETA: 13s - loss: 0.4422 - acc: 0.78 - ETA: 12s - loss: 0.4354 - acc: 0.78 - ETA: 12s - loss: 0.4324 - acc: 0.78 - ETA: 11s - loss: 0.4363 - acc: 0.78 - ETA: 11s - loss: 0.4421 - acc: 0.78 - ETA: 11s - loss: 0.4443 - acc: 0.78 - ETA: 11s - loss: 0.4412 - acc: 0.78 - ETA: 10s - loss: 0.4422 - acc: 0.78 - ETA: 10s - loss: 0.4450 - acc: 0.78 - ETA: 10s - loss: 0.4487 - acc: 0.78 - ETA: 9s - loss: 0.4523 - acc: 0.7832 - ETA: 9s - loss: 0.4511 - acc: 0.782 - ETA: 8s - loss: 0.4529 - acc: 0.782 - ETA: 8s - loss: 0.4531 - acc: 0.781 - ETA: 8s - loss: 0.4548 - acc: 0.781 - ETA: 8s - loss: 0.4594 - acc: 0.779 - ETA: 7s - loss: 0.4605 - acc: 0.777 - ETA: 7s - loss: 0.4588 - acc: 0.777 - ETA: 7s - loss: 0.4559 - acc: 0.778 - ETA: 6s - loss: 0.4582 - acc: 0.778 - ETA: 6s - loss: 0.4562 - acc: 0.778 - ETA: 6s - loss: 0.4574 - acc: 0.777 - ETA: 5s - loss: 0.4627 - acc: 0.777 - ETA: 5s - loss: 0.4607 - acc: 0.778 - ETA: 5s - loss: 0.4601 - acc: 0.779 - ETA: 4s - loss: 0.4613 - acc: 0.778 - ETA: 4s - loss: 0.4600 - acc: 0.779 - ETA: 4s - loss: 0.4581 - acc: 0.780 - ETA: 3s - loss: 0.4575 - acc: 0.781 - ETA: 3s - loss: 0.4570 - acc: 0.781 - ETA: 3s - loss: 0.4585 - acc: 0.782 - ETA: 2s - loss: 0.4633 - acc: 0.782 - ETA: 2s - loss: 0.4697 - acc: 0.782 - ETA: 2s - loss: 0.4681 - acc: 0.781 - ETA: 1s - loss: 0.4667 - acc: 0.781 - ETA: 1s - loss: 0.4657 - acc: 0.780 - ETA: 1s - loss: 0.4670 - acc: 0.779 - ETA: 0s - loss: 0.4683 - acc: 0.778 - ETA: 0s - loss: 0.4670 - acc: 0.777 - ETA: 0s - loss: 0.4688 - acc: 0.775 - 19s 1ms/step - loss: 0.4689 - acc: 0.7753 - val_loss: 0.6553 - val_acc: 0.7837\n",
      "\n",
      "Epoch 00003: val_loss did not improve from 0.64084\n",
      "Epoch 4/15\n",
      "13646/13646 [==============================] - ETA: 17s - loss: 0.3635 - acc: 0.81 - ETA: 17s - loss: 0.3789 - acc: 0.78 - ETA: 17s - loss: 0.3984 - acc: 0.78 - ETA: 16s - loss: 0.3834 - acc: 0.80 - ETA: 15s - loss: 0.3820 - acc: 0.81 - ETA: 15s - loss: 0.3710 - acc: 0.82 - ETA: 14s - loss: 0.3663 - acc: 0.82 - ETA: 14s - loss: 0.3603 - acc: 0.82 - ETA: 14s - loss: 0.3645 - acc: 0.83 - ETA: 14s - loss: 0.3580 - acc: 0.83 - ETA: 13s - loss: 0.3726 - acc: 0.83 - ETA: 13s - loss: 0.3669 - acc: 0.83 - ETA: 13s - loss: 0.3669 - acc: 0.83 - ETA: 12s - loss: 0.3676 - acc: 0.83 - ETA: 12s - loss: 0.3629 - acc: 0.83 - ETA: 12s - loss: 0.3647 - acc: 0.83 - ETA: 11s - loss: 0.3569 - acc: 0.83 - ETA: 11s - loss: 0.3595 - acc: 0.83 - ETA: 11s - loss: 0.3627 - acc: 0.83 - ETA: 10s - loss: 0.3585 - acc: 0.83 - ETA: 10s - loss: 0.3556 - acc: 0.83 - ETA: 10s - loss: 0.3524 - acc: 0.83 - ETA: 10s - loss: 0.3565 - acc: 0.83 - ETA: 9s - loss: 0.3598 - acc: 0.8319 - ETA: 9s - loss: 0.3565 - acc: 0.834 - ETA: 9s - loss: 0.3570 - acc: 0.834 - ETA: 8s - loss: 0.3531 - acc: 0.836 - ETA: 8s - loss: 0.3558 - acc: 0.837 - ETA: 8s - loss: 0.3548 - acc: 0.836 - ETA: 7s - loss: 0.3553 - acc: 0.838 - ETA: 7s - loss: 0.3591 - acc: 0.838 - ETA: 7s - loss: 0.3552 - acc: 0.837 - ETA: 6s - loss: 0.3585 - acc: 0.835 - ETA: 6s - loss: 0.3557 - acc: 0.835 - ETA: 6s - loss: 0.3527 - acc: 0.835 - ETA: 5s - loss: 0.3536 - acc: 0.833 - ETA: 5s - loss: 0.3548 - acc: 0.834 - ETA: 5s - loss: 0.3553 - acc: 0.834 - ETA: 4s - loss: 0.3572 - acc: 0.834 - ETA: 4s - loss: 0.3552 - acc: 0.834 - ETA: 4s - loss: 0.3584 - acc: 0.834 - ETA: 3s - loss: 0.3570 - acc: 0.834 - ETA: 3s - loss: 0.3591 - acc: 0.834 - ETA: 3s - loss: 0.3582 - acc: 0.834 - ETA: 2s - loss: 0.3572 - acc: 0.835 - ETA: 2s - loss: 0.3541 - acc: 0.835 - ETA: 2s - loss: 0.3535 - acc: 0.834 - ETA: 1s - loss: 0.3527 - acc: 0.834 - ETA: 1s - loss: 0.3522 - acc: 0.834 - ETA: 1s - loss: 0.3508 - acc: 0.835 - ETA: 0s - loss: 0.3543 - acc: 0.835 - ETA: 0s - loss: 0.3526 - acc: 0.835 - ETA: 0s - loss: 0.3510 - acc: 0.836 - 18s 1ms/step - loss: 0.3510 - acc: 0.8362 - val_loss: 0.4892 - val_acc: 0.8347\n",
      "\n",
      "Epoch 00004: val_loss improved from 0.64084 to 0.48921, saving model to best_model.h5\n",
      "Epoch 5/15\n",
      "13646/13646 [==============================] - ETA: 15s - loss: 0.2959 - acc: 0.86 - ETA: 15s - loss: 0.2732 - acc: 0.87 - ETA: 16s - loss: 0.2614 - acc: 0.86 - ETA: 16s - loss: 0.2554 - acc: 0.87 - ETA: 15s - loss: 0.2627 - acc: 0.87 - ETA: 15s - loss: 0.2652 - acc: 0.87 - ETA: 15s - loss: 0.2705 - acc: 0.88 - ETA: 14s - loss: 0.2647 - acc: 0.87 - ETA: 14s - loss: 0.2543 - acc: 0.88 - ETA: 13s - loss: 0.2786 - acc: 0.88 - ETA: 13s - loss: 0.2758 - acc: 0.87 - ETA: 13s - loss: 0.2722 - acc: 0.87 - ETA: 12s - loss: 0.2642 - acc: 0.88 - ETA: 12s - loss: 0.2612 - acc: 0.87 - ETA: 12s - loss: 0.2594 - acc: 0.88 - ETA: 12s - loss: 0.2583 - acc: 0.88 - ETA: 11s - loss: 0.2583 - acc: 0.88 - ETA: 11s - loss: 0.2605 - acc: 0.88 - ETA: 11s - loss: 0.2621 - acc: 0.88 - ETA: 11s - loss: 0.2590 - acc: 0.88 - ETA: 11s - loss: 0.2625 - acc: 0.88 - ETA: 10s - loss: 0.2671 - acc: 0.88 - ETA: 10s - loss: 0.2682 - acc: 0.87 - ETA: 10s - loss: 0.2658 - acc: 0.87 - ETA: 9s - loss: 0.2629 - acc: 0.8773 - ETA: 9s - loss: 0.2639 - acc: 0.876 - ETA: 8s - loss: 0.2644 - acc: 0.874 - ETA: 8s - loss: 0.2642 - acc: 0.873 - ETA: 8s - loss: 0.2637 - acc: 0.872 - ETA: 7s - loss: 0.2634 - acc: 0.871 - ETA: 7s - loss: 0.2599 - acc: 0.872 - ETA: 7s - loss: 0.2621 - acc: 0.871 - ETA: 6s - loss: 0.2610 - acc: 0.872 - ETA: 6s - loss: 0.2608 - acc: 0.871 - ETA: 6s - loss: 0.2619 - acc: 0.872 - ETA: 5s - loss: 0.2624 - acc: 0.873 - ETA: 5s - loss: 0.2635 - acc: 0.873 - ETA: 5s - loss: 0.2643 - acc: 0.874 - ETA: 4s - loss: 0.2626 - acc: 0.874 - ETA: 4s - loss: 0.2654 - acc: 0.874 - ETA: 4s - loss: 0.2668 - acc: 0.874 - ETA: 3s - loss: 0.2655 - acc: 0.874 - ETA: 3s - loss: 0.2657 - acc: 0.873 - ETA: 3s - loss: 0.2654 - acc: 0.872 - ETA: 2s - loss: 0.2653 - acc: 0.871 - ETA: 2s - loss: 0.2655 - acc: 0.870 - ETA: 2s - loss: 0.2683 - acc: 0.869 - ETA: 1s - loss: 0.2658 - acc: 0.869 - ETA: 1s - loss: 0.2677 - acc: 0.868 - ETA: 1s - loss: 0.2701 - acc: 0.867 - ETA: 0s - loss: 0.2697 - acc: 0.868 - ETA: 0s - loss: 0.2704 - acc: 0.867 - ETA: 0s - loss: 0.2697 - acc: 0.867 - 18s 1ms/step - loss: 0.2697 - acc: 0.8677 - val_loss: 0.5854 - val_acc: 0.8095\n",
      "\n",
      "Epoch 00005: val_loss did not improve from 0.48921\n",
      "Epoch 6/15\n",
      "13646/13646 [==============================] - ETA: 17s - loss: 0.1779 - acc: 0.87 - ETA: 17s - loss: 0.1682 - acc: 0.88 - ETA: 16s - loss: 0.1827 - acc: 0.87 - ETA: 16s - loss: 0.2044 - acc: 0.86 - ETA: 16s - loss: 0.2064 - acc: 0.87 - ETA: 16s - loss: 0.2048 - acc: 0.87 - ETA: 16s - loss: 0.2177 - acc: 0.87 - ETA: 16s - loss: 0.2196 - acc: 0.87 - ETA: 16s - loss: 0.2170 - acc: 0.88 - ETA: 16s - loss: 0.2084 - acc: 0.88 - ETA: 15s - loss: 0.2045 - acc: 0.88 - ETA: 15s - loss: 0.2023 - acc: 0.88 - ETA: 14s - loss: 0.2125 - acc: 0.88 - ETA: 14s - loss: 0.2119 - acc: 0.89 - ETA: 13s - loss: 0.2110 - acc: 0.89 - ETA: 13s - loss: 0.2170 - acc: 0.89 - ETA: 12s - loss: 0.2144 - acc: 0.89 - ETA: 12s - loss: 0.2145 - acc: 0.89 - ETA: 12s - loss: 0.2144 - acc: 0.89 - ETA: 11s - loss: 0.2149 - acc: 0.89 - ETA: 11s - loss: 0.2119 - acc: 0.89 - ETA: 11s - loss: 0.2131 - acc: 0.89 - ETA: 10s - loss: 0.2117 - acc: 0.89 - ETA: 10s - loss: 0.2117 - acc: 0.89 - ETA: 9s - loss: 0.2098 - acc: 0.8945 - ETA: 9s - loss: 0.2069 - acc: 0.895 - ETA: 9s - loss: 0.2053 - acc: 0.896 - ETA: 8s - loss: 0.2052 - acc: 0.897 - ETA: 8s - loss: 0.2042 - acc: 0.897 - ETA: 8s - loss: 0.2050 - acc: 0.897 - ETA: 7s - loss: 0.2070 - acc: 0.896 - ETA: 7s - loss: 0.2105 - acc: 0.896 - ETA: 7s - loss: 0.2095 - acc: 0.896 - ETA: 6s - loss: 0.2084 - acc: 0.896 - ETA: 6s - loss: 0.2094 - acc: 0.896 - ETA: 5s - loss: 0.2084 - acc: 0.896 - ETA: 5s - loss: 0.2078 - acc: 0.896 - ETA: 5s - loss: 0.2068 - acc: 0.896 - ETA: 4s - loss: 0.2047 - acc: 0.897 - ETA: 4s - loss: 0.2056 - acc: 0.897 - ETA: 4s - loss: 0.2045 - acc: 0.897 - ETA: 3s - loss: 0.2043 - acc: 0.897 - ETA: 3s - loss: 0.2037 - acc: 0.897 - ETA: 3s - loss: 0.2039 - acc: 0.897 - ETA: 2s - loss: 0.2020 - acc: 0.898 - ETA: 2s - loss: 0.2009 - acc: 0.898 - ETA: 2s - loss: 0.2019 - acc: 0.898 - ETA: 1s - loss: 0.2035 - acc: 0.899 - ETA: 1s - loss: 0.2026 - acc: 0.899 - ETA: 1s - loss: 0.2039 - acc: 0.899 - ETA: 0s - loss: 0.2028 - acc: 0.899 - ETA: 0s - loss: 0.2040 - acc: 0.899 - ETA: 0s - loss: 0.2052 - acc: 0.899 - 19s 1ms/step - loss: 0.2063 - acc: 0.8994 - val_loss: 0.6284 - val_acc: 0.8089\n",
      "\n",
      "Epoch 00006: val_loss did not improve from 0.48921\n",
      "Epoch 7/15\n"
     ]
    },
    {
     "name": "stdout",
     "output_type": "stream",
     "text": [
      "13646/13646 [==============================] - ETA: 16s - loss: 0.1599 - acc: 0.88 - ETA: 16s - loss: 0.1953 - acc: 0.87 - ETA: 16s - loss: 0.2001 - acc: 0.87 - ETA: 16s - loss: 0.1786 - acc: 0.88 - ETA: 16s - loss: 0.1770 - acc: 0.88 - ETA: 15s - loss: 0.1777 - acc: 0.88 - ETA: 15s - loss: 0.1785 - acc: 0.88 - ETA: 15s - loss: 0.1727 - acc: 0.89 - ETA: 14s - loss: 0.1710 - acc: 0.89 - ETA: 14s - loss: 0.1652 - acc: 0.89 - ETA: 14s - loss: 0.1654 - acc: 0.90 - ETA: 13s - loss: 0.1623 - acc: 0.90 - ETA: 13s - loss: 0.1612 - acc: 0.90 - ETA: 13s - loss: 0.1622 - acc: 0.90 - ETA: 12s - loss: 0.1682 - acc: 0.91 - ETA: 12s - loss: 0.1699 - acc: 0.91 - ETA: 12s - loss: 0.1713 - acc: 0.91 - ETA: 11s - loss: 0.1748 - acc: 0.91 - ETA: 11s - loss: 0.1767 - acc: 0.91 - ETA: 11s - loss: 0.1747 - acc: 0.91 - ETA: 10s - loss: 0.1768 - acc: 0.91 - ETA: 10s - loss: 0.1765 - acc: 0.91 - ETA: 10s - loss: 0.1729 - acc: 0.91 - ETA: 9s - loss: 0.1721 - acc: 0.9119 - ETA: 9s - loss: 0.1704 - acc: 0.912 - ETA: 9s - loss: 0.1697 - acc: 0.911 - ETA: 8s - loss: 0.1703 - acc: 0.910 - ETA: 8s - loss: 0.1696 - acc: 0.909 - ETA: 8s - loss: 0.1696 - acc: 0.908 - ETA: 7s - loss: 0.1689 - acc: 0.909 - ETA: 7s - loss: 0.1673 - acc: 0.909 - ETA: 7s - loss: 0.1689 - acc: 0.910 - ETA: 6s - loss: 0.1666 - acc: 0.911 - ETA: 6s - loss: 0.1645 - acc: 0.912 - ETA: 6s - loss: 0.1639 - acc: 0.914 - ETA: 5s - loss: 0.1617 - acc: 0.915 - ETA: 5s - loss: 0.1627 - acc: 0.915 - ETA: 5s - loss: 0.1624 - acc: 0.915 - ETA: 4s - loss: 0.1672 - acc: 0.915 - ETA: 4s - loss: 0.1685 - acc: 0.916 - ETA: 4s - loss: 0.1700 - acc: 0.916 - ETA: 3s - loss: 0.1687 - acc: 0.917 - ETA: 3s - loss: 0.1665 - acc: 0.918 - ETA: 3s - loss: 0.1658 - acc: 0.918 - ETA: 2s - loss: 0.1657 - acc: 0.918 - ETA: 2s - loss: 0.1652 - acc: 0.918 - ETA: 2s - loss: 0.1639 - acc: 0.917 - ETA: 1s - loss: 0.1637 - acc: 0.916 - ETA: 1s - loss: 0.1639 - acc: 0.916 - ETA: 1s - loss: 0.1652 - acc: 0.915 - ETA: 0s - loss: 0.1658 - acc: 0.915 - ETA: 0s - loss: 0.1672 - acc: 0.915 - ETA: 0s - loss: 0.1676 - acc: 0.915 - 19s 1ms/step - loss: 0.1681 - acc: 0.9154 - val_loss: 0.6164 - val_acc: 0.8283\n",
      "\n",
      "Epoch 00007: val_loss did not improve from 0.48921\n"
     ]
    },
    {
     "data": {
      "text/plain": [
       "<keras.callbacks.History at 0x2828f0e83c8>"
      ]
     },
     "execution_count": 40,
     "metadata": {},
     "output_type": "execute_result"
    }
   ],
   "source": [
    "# fit the model adjusting for epochs, batch, and weight\n",
    "\n",
    "model.fit(\n",
    "    X_train, y_train, \n",
    "    validation_data=(X_val,y_val),\n",
    "    epochs=15, #may not run all due to callback\n",
    "    batch_size=256, #faster with larger batch_size but it's generalizing\n",
    "    verbose=1,\n",
    "    callbacks=callbacks, #stops training once the model stops improving. Prevents overfitting.\n",
    "    class_weight={0: 6, #inv_ratio_hate+0.1,\n",
    "                  1: 0.4, #inv_ratio_hurtful-0.1,\n",
    "                  2: 0.9 }#inv_ratio_neither} #use inverse ratio to set hate with highest weight (somewhat arbitrary)\n",
    ") "
   ]
  },
  {
   "cell_type": "code",
   "execution_count": 41,
   "metadata": {},
   "outputs": [],
   "source": [
    "# Predict validation sentiment!\n",
    "y_pred = model.predict(X_test)"
   ]
  },
  {
   "cell_type": "markdown",
   "metadata": {},
   "source": [
    "## How did the Model Do?"
   ]
  },
  {
   "cell_type": "code",
   "execution_count": 42,
   "metadata": {},
   "outputs": [
    {
     "data": {
      "image/png": "[encoded data removed]",
      "text/plain": [
       "<Figure size 432x288 with 1 Axes>"
      ]
     },
     "metadata": {
      "needs_background": "light"
     },
     "output_type": "display_data"
    }
   ],
   "source": [
    "# Create count of the number of epochs\n",
    "#model.load_weights('best_model.h5')\n",
    "#model.save('../../LSTM_model.h5')\n",
    "epoch_count = range(1,len(model.history.history['loss']) + 1)\n",
    "\n",
    "# Visualize the learning curve.\n",
    "\n",
    "plt.plot(epoch_count,model.history.history['loss'],'r--')\n",
    "plt.plot(epoch_count,model.history.history['val_loss'],'b--')\n",
    "plt.plot(epoch_count,model.history.history['acc'],'y-')\n",
    "plt.plot(epoch_count,model.history.history['val_acc'],'g-')\n",
    "plt.legend(['Training Loss', 'Validation Loss'])\n",
    "plt.xlabel('Epoch')\n",
    "plt.ylabel('Loss/Accuracy')\n",
    "plt.title('Training vs Validation Loss and Accuracy')\n",
    "\n",
    "# save figure\n",
    "plt.savefig('../model_reports/loss.png')\n",
    "\n",
    "plt.show()"
   ]
  },
  {
   "cell_type": "code",
   "execution_count": null,
   "metadata": {},
   "outputs": [],
   "source": [
    "Do the roc curve analysis on y_test instead of y_val"
   ]
  },
  {
   "cell_type": "code",
   "execution_count": 43,
   "metadata": {},
   "outputs": [
    {
     "data": {
      "image/png": "[encoded data removed]",
      "text/plain": [
       "<Figure size 432x288 with 1 Axes>"
      ]
     },
     "metadata": {
      "needs_background": "light"
     },
     "output_type": "display_data"
    }
   ],
   "source": [
    "# Use trained Keras model to predict test inputs and generate ROC data\n",
    "# Plot ROC for each of the 3 classes\n",
    "\n",
    "# Plot linewidth.\n",
    "lw = 2\n",
    "\n",
    "# 3 classes to classify\n",
    "n_classes = 3\n",
    "\n",
    "# Compute ROC curve and ROC area for each class\n",
    "fpr = dict()\n",
    "tpr = dict()\n",
    "roc_auc = dict()\n",
    "for i in range(n_classes): \n",
    "    fpr[i], tpr[i], _ = roc_curve(y_test[:, i], y_pred[:, i])\n",
    "    roc_auc[i] = auc(fpr[i], tpr[i])\n",
    "\n",
    "# Compute micro-average ROC curve and ROC area\n",
    "fpr[\"micro\"], tpr[\"micro\"], _ = roc_curve(y_test.ravel(), y_pred.ravel())\n",
    "roc_auc[\"micro\"] = auc(fpr[\"micro\"], tpr[\"micro\"])\n",
    "\n",
    "# Compute macro-average ROC curve and ROC area\n",
    "\n",
    "# First aggregate all false positive rates\n",
    "all_fpr = np.unique(np.concatenate([fpr[i] for i in range(n_classes)]))\n",
    "\n",
    "# Then interpolate all ROC curves at this points\n",
    "mean_tpr = np.zeros_like(all_fpr)\n",
    "for i in range(n_classes):\n",
    "    mean_tpr += interp(all_fpr, fpr[i], tpr[i])\n",
    "\n",
    "# Finally average it and compute AUC\n",
    "mean_tpr /= n_classes\n",
    "\n",
    "fpr[\"macro\"] = all_fpr\n",
    "tpr[\"macro\"] = mean_tpr\n",
    "roc_auc[\"macro\"] = auc(fpr[\"macro\"], tpr[\"macro\"])\n",
    "\n",
    "# Plot all ROC curves\n",
    "plt.figure(1)\n",
    "plt.plot(fpr[\"micro\"], tpr[\"micro\"],\n",
    "         label='micro-average ROC curve (area = {0:0.2f})'\n",
    "               ''.format(roc_auc[\"micro\"]),\n",
    "         color='deeppink', linestyle=':', linewidth=4)\n",
    "\n",
    "plt.plot(fpr[\"macro\"], tpr[\"macro\"],\n",
    "         label='macro-average ROC curve (area = {0:0.2f})'\n",
    "               ''.format(roc_auc[\"macro\"]),\n",
    "         color='navy', linestyle=':', linewidth=4)\n",
    "\n",
    "colors = cycle(['aqua', 'darkorange', 'cornflowerblue'])\n",
    "for i, color in zip(range(n_classes), colors):\n",
    "    plt.plot(fpr[i], tpr[i], color=color, lw=lw,\n",
    "             label='ROC curve of class {0} (area = {1:0.2f})'\n",
    "             ''.format(i, roc_auc[i]))\n",
    "\n",
    "plt.plot([0, 1], [0, 1], 'k--', lw=lw)\n",
    "plt.xlim([0.0, 1.0])\n",
    "plt.ylim([0.0, 1.05])\n",
    "plt.xlabel('False Positive Rate')\n",
    "plt.ylabel('True Positive Rate')\n",
    "plt.title('ROC multi-class')\n",
    "plt.legend(loc=\"lower right\")\n",
    "\n",
    "# Save figure\n",
    "plt.savefig('../model_reports/roc.png')\n",
    "\n",
    "plt.show()"
   ]
  },
  {
   "cell_type": "markdown",
   "metadata": {},
   "source": [
    "Do the confusion matrix on y_test rather than y_val"
   ]
  },
  {
   "cell_type": "code",
   "execution_count": 44,
   "metadata": {},
   "outputs": [
    {
     "data": {
      "image/png": "[encoded data removed]",
      "text/plain": [
       "<Figure size 360x360 with 1 Axes>"
      ]
     },
     "metadata": {
      "needs_background": "light"
     },
     "output_type": "display_data"
    }
   ],
   "source": [
    "# Use seaborn to see counts in percentages\n",
    "# Truth categories yield 100%\n",
    "confusion_matrix_t = confusion_matrix(keras_output_sklearn(y_test),keras_output_sklearn(y_pred))\n",
    "\n",
    "matrix_proportions = np.zeros((3,3))\n",
    "for i in range(0,3):\n",
    "    matrix_proportions[i,:] = confusion_matrix_t[i,:]/float(confusion_matrix_t[i,:].sum())\n",
    "names=['Hate','Offensive','Neither']\n",
    "# save result as pandas df\n",
    "confusion_df = pd.DataFrame(matrix_proportions, index=names,columns=names)\n",
    "plt.figure(figsize=(5,5))\n",
    "sns.heatmap(confusion_df,annot=True,annot_kws={\"size\": 12},cmap='gist_gray_r',cbar=False, square=True,fmt='.2f')\n",
    "plt.ylabel(r'True categories',fontsize=14)\n",
    "plt.xlabel(r'Predicted categories',fontsize=14)\n",
    "plt.title('Confusion Matrix')\n",
    "plt.tick_params(labelsize=12)\n",
    "\n",
    "#Uncomment line below if you want to save the output\n",
    "plt.savefig('../model_reports/confusion.png')"
   ]
  },
  {
   "cell_type": "markdown",
   "metadata": {},
   "source": [
    "I ran this classification with y_test, but you can certainly do it with y_val and do\n",
    "y_predict = model.predict(X_val) "
   ]
  },
  {
   "cell_type": "code",
   "execution_count": 45,
   "metadata": {},
   "outputs": [
    {
     "name": "stdout",
     "output_type": "stream",
     "text": [
      "              precision    recall  f1-score   support\n",
      "\n",
      "           0       0.36      0.63      0.46       142\n",
      "           1       0.94      0.83      0.88      1149\n",
      "           2       0.84      0.90      0.87       415\n",
      "\n",
      "    accuracy                           0.83      1706\n",
      "   macro avg       0.71      0.78      0.74      1706\n",
      "weighted avg       0.87      0.83      0.84      1706\n",
      "\n"
     ]
    }
   ],
   "source": [
    "print(classification_report(keras_output_sklearn(y_test), keras_output_sklearn(y_pred)))"
   ]
  },
  {
   "cell_type": "markdown",
   "metadata": {},
   "source": [
    "I ran a confusion matrix on the entire labeled dataset and it's in the project folder. I figured this would be a good idea since I wanted to make sure I was testing the other 40% of the offensive tweets to make sure those were labeled well and the f1 score certainly improved back to normal."
   ]
  }
 ],
 "metadata": {
  "kernelspec": {
   "display_name": "Python 3",
   "language": "python",
   "name": "python3"
  },
  "language_info": {
   "codemirror_mode": {
    "name": "ipython",
    "version": 3
   },
   "file_extension": ".py",
   "mimetype": "text/x-python",
   "name": "python",
   "nbconvert_exporter": "python",
   "pygments_lexer": "ipython3",
   "version": "3.6.8"
  }
 },
 "nbformat": 4,
 "nbformat_minor": 2
}
